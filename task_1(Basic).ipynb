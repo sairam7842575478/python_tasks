{
 "cells": [
  {
   "cell_type": "markdown",
   "id": "dd514ed0",
   "metadata": {},
   "source": [
    "# 1. In the below elements which of them are values or an expression? \n",
    "\n",
    "* -> expression\n",
    "\n",
    "'hello'-> value\n",
    "\n",
    "-87.8 -> value\n",
    "\n",
    "- -> expression\n",
    "\n",
    "/ ->expression\n",
    "\n",
    "+ -> expression\n",
    "\n",
    "6-> value"
   ]
  },
  {
   "cell_type": "markdown",
   "id": "0d9110cf",
   "metadata": {},
   "source": [
    "# 2. What is the difference between string and variable?\n",
    "\n",
    "String is a type of data or representation of data where as varaible is storage container"
   ]
  },
  {
   "cell_type": "markdown",
   "id": "389d5cbd",
   "metadata": {},
   "source": [
    "# 3.Describe three different data types.\n",
    " \n",
    " Int -> We can use int data type to represent whole numbers (integral values) eg: a=10 \n",
    " \n",
    " Float-> We can use float data type to represent floating point values (decimal values) eg: f=1.2\n",
    " \n",
    " string-> sequence of characters enclosed with single quotes or double quotes \n",
    " \n",
    " complex -> complex is the form of a+bj eg: 10+3j"
   ]
  },
  {
   "cell_type": "markdown",
   "id": "ed4a22f4",
   "metadata": {},
   "source": [
    "# 4.What is an expression made up of? What do all expressions do?\n",
    " \n",
    " expression is combination of operators,values,variables.\n",
    " expression will combine the values and operator \n",
    " \n",
    " Eg : 2+2=4"
   ]
  },
  {
   "cell_type": "markdown",
   "id": "dd79c331",
   "metadata": {},
   "source": [
    "# 5.This assignment statements, like spam = 10. What is the difference between an expression and a statement?\n",
    "\n",
    "An Expression always evaluates to a value.A statement does something, like creating a variable or displaying a value.\n",
    "\n",
    "spam=10 # I can say that it is statement\n",
    "\n",
    "spam+10#I can say that it is expression\n"
   ]
  },
  {
   "cell_type": "markdown",
   "id": "ca95639b",
   "metadata": {},
   "source": [
    "# 6. After running the following code, what does the variable bacon contain?\n",
    "bacon = 22\n",
    "bacon + 1\n",
    "\n",
    "23 we will get"
   ]
  },
  {
   "cell_type": "markdown",
   "id": "f8faaec7",
   "metadata": {},
   "source": [
    "# 7. What should the values of the following two terms be?\n",
    "'spam'+'spamspam' -> 'spamspamspam'\n",
    "\n",
    "'spam'*3 -> 'spamspamspam'"
   ]
  },
  {
   "cell_type": "markdown",
   "id": "f83e0423",
   "metadata": {},
   "source": [
    "# 8. Why is eggs a valid variable name while 100 is invalid?\n",
    "\n",
    "variable name should not start with digits. Can be start with _ or string. So 100 is invalid."
   ]
  },
  {
   "cell_type": "markdown",
   "id": "6ceffd04",
   "metadata": {},
   "source": [
    "# 9. What three functions can be used to get the integer, floating-point number, or string version of a value?\n",
    "\n",
    "integer - int()\n",
    "floating-point number-float()\n",
    "string- str()"
   ]
  },
  {
   "cell_type": "code",
   "execution_count": null,
   "id": "fb4fe953",
   "metadata": {},
   "outputs": [],
   "source": [
    "#10. Why does this expression cause an error? How can you fix it?\n",
    "\n",
    "we can not add str + Int , so we will get error with this expression\n",
    "\n",
    "To avaoid this, we can take str"
   ]
  },
  {
   "cell_type": "code",
   "execution_count": 11,
   "id": "0504a30d",
   "metadata": {},
   "outputs": [
    {
     "ename": "TypeError",
     "evalue": "can only concatenate str (not \"int\") to str",
     "output_type": "error",
     "traceback": [
      "\u001b[1;31m---------------------------------------------------------------------------\u001b[0m",
      "\u001b[1;31mTypeError\u001b[0m                                 Traceback (most recent call last)",
      "\u001b[1;32m~\\AppData\\Local\\Temp/ipykernel_14156/2842130869.py\u001b[0m in \u001b[0;36m<module>\u001b[1;34m\u001b[0m\n\u001b[1;32m----> 1\u001b[1;33m \u001b[1;34m'i have eaten'\u001b[0m\u001b[1;33m+\u001b[0m \u001b[1;36m99\u001b[0m \u001b[1;33m+\u001b[0m\u001b[1;34m'burritos'\u001b[0m\u001b[1;33m\u001b[0m\u001b[1;33m\u001b[0m\u001b[0m\n\u001b[0m",
      "\u001b[1;31mTypeError\u001b[0m: can only concatenate str (not \"int\") to str"
     ]
    }
   ],
   "source": [
    "'i have eaten'+ 99 +'burritos'"
   ]
  },
  {
   "cell_type": "code",
   "execution_count": null,
   "id": "b708418b",
   "metadata": {},
   "outputs": [],
   "source": []
  }
 ],
 "metadata": {
  "kernelspec": {
   "display_name": "Python 3 (ipykernel)",
   "language": "python",
   "name": "python3"
  },
  "language_info": {
   "codemirror_mode": {
    "name": "ipython",
    "version": 3
   },
   "file_extension": ".py",
   "mimetype": "text/x-python",
   "name": "python",
   "nbconvert_exporter": "python",
   "pygments_lexer": "ipython3",
   "version": "3.9.7"
  }
 },
 "nbformat": 4,
 "nbformat_minor": 5
}
