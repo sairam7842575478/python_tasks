{
 "cells": [
  {
   "cell_type": "markdown",
   "id": "ca713cb9",
   "metadata": {},
   "source": [
    "# 1.What are the two values of the Boolean data type? How do you write them?"
   ]
  },
  {
   "cell_type": "code",
   "execution_count": null,
   "id": "78398c0b",
   "metadata": {},
   "outputs": [],
   "source": [
    "True and False(1 and zero)\n",
    "boolean values returned when we need to check the condition kind of things"
   ]
  },
  {
   "cell_type": "code",
   "execution_count": 5,
   "id": "038a13ec",
   "metadata": {},
   "outputs": [
    {
     "data": {
      "text/plain": [
       "False"
      ]
     },
     "execution_count": 5,
     "metadata": {},
     "output_type": "execute_result"
    }
   ],
   "source": [
    "a=10\n",
    "b=20\n",
    "a>40 and b>40"
   ]
  },
  {
   "cell_type": "code",
   "execution_count": 6,
   "id": "713af62b",
   "metadata": {},
   "outputs": [
    {
     "data": {
      "text/plain": [
       "True"
      ]
     },
     "execution_count": 6,
     "metadata": {},
     "output_type": "execute_result"
    }
   ],
   "source": [
    "a<40 and b<40"
   ]
  },
  {
   "cell_type": "markdown",
   "id": "17761143",
   "metadata": {},
   "source": [
    "# 2. What are the three different types of Boolean operators?"
   ]
  },
  {
   "cell_type": "code",
   "execution_count": null,
   "id": "7387c59b",
   "metadata": {},
   "outputs": [],
   "source": [
    "and, or and not\n",
    "The logical operators and, or and not are also referred to as boolean operators.\n"
   ]
  },
  {
   "cell_type": "markdown",
   "id": "b3893992",
   "metadata": {},
   "source": [
    "# 3. Make a list of each Boolean operator&#39;s truth tables (i.e. every possible combination of Boolean values for the operator and what it evaluate )."
   ]
  },
  {
   "cell_type": "code",
   "execution_count": null,
   "id": "f36c0721",
   "metadata": {},
   "outputs": [],
   "source": [
    "The AND operator truth table:\n",
    "\n",
    "A  B  A&B\n",
    "0 0    0\n",
    "0 1    0\n",
    "1 0    0\n",
    "1 1    1"
   ]
  },
  {
   "cell_type": "code",
   "execution_count": null,
   "id": "66da23ec",
   "metadata": {},
   "outputs": [],
   "source": [
    "A  B  AorB\n",
    "0 0    0\n",
    "0 1    1\n",
    "1 0    1\n",
    "1 1    1"
   ]
  },
  {
   "cell_type": "code",
   "execution_count": 14,
   "id": "d0176c0c",
   "metadata": {},
   "outputs": [],
   "source": [
    "A notA\n",
    "0  1\n",
    "1  0"
   ]
  },
  {
   "cell_type": "markdown",
   "id": "75d2c7bd",
   "metadata": {},
   "source": [
    "# 4. What are the values of the following expressions?"
   ]
  },
  {
   "cell_type": "code",
   "execution_count": null,
   "id": "d978d89e",
   "metadata": {},
   "outputs": [],
   "source": [
    "(5 > 4) and (3 == 5) -> False(zero)\n",
    "not (5 >4) -> False\n",
    "(5 > 4) or (3 == 5)-> True\n",
    "not((5 > 4) or (3 == 5))->False\n",
    "(True and True) and (True == False)->False\n",
    "(not False) or (not True) -> True"
   ]
  },
  {
   "cell_type": "markdown",
   "id": "77ff9f16",
   "metadata": {},
   "source": [
    "# 5. What are the six comparison operators?"
   ]
  },
  {
   "cell_type": "code",
   "execution_count": null,
   "id": "c89404a3",
   "metadata": {},
   "outputs": [],
   "source": [
    ">-greaterthan\n",
    ">=greaterthan equals to\n",
    "<->lessthan\n",
    "<=->lessthan euals to\n",
    "==->equals to\n",
    "!= -> not equals to"
   ]
  },
  {
   "cell_type": "markdown",
   "id": "0371cd2c",
   "metadata": {},
   "source": [
    "# 6. How do you tell the difference between the equal to and assignment operators?Describe a condition and when you would use one."
   ]
  },
  {
   "cell_type": "code",
   "execution_count": null,
   "id": "ece98f19",
   "metadata": {},
   "outputs": [],
   "source": [
    "when we try to compare two entities we use equal ex: if 5 == 6 : (this is not assignment operator)(it has 2 equal symbols)\n",
    "in case if we want to assign some thing to variable a=5(It has one equal symbol)"
   ]
  },
  {
   "cell_type": "markdown",
   "id": "205da7c5",
   "metadata": {},
   "source": [
    "# 7. Identify the three blocks in this code"
   ]
  },
  {
   "cell_type": "code",
   "execution_count": null,
   "id": "4e8d6e46",
   "metadata": {},
   "outputs": [],
   "source": [
    "spam = 0\n",
    "if spam == 10:\n",
    "    print('eggs')\n",
    "if spam > 5:\n",
    "    print('bacon')\n",
    "else:\n",
    "    print('ham')\n",
    "    print('spam')\n",
    "    print('spam')\n",
    "\n"
   ]
  },
  {
   "cell_type": "code",
   "execution_count": null,
   "id": "b8c64f1f",
   "metadata": {},
   "outputs": [],
   "source": [
    "output: It will print else block like ham\n",
    "                                      spam\n",
    "                                      spam"
   ]
  },
  {
   "cell_type": "markdown",
   "id": "ed564302",
   "metadata": {},
   "source": [
    "# 8. Write code that prints Hello if 1 is stored in spam, prints Howdy if 2 is stored in spam, and prints Greetings! if anything else is stored in spam."
   ]
  },
  {
   "cell_type": "code",
   "execution_count": 26,
   "id": "59a46a31",
   "metadata": {},
   "outputs": [
    {
     "name": "stdout",
     "output_type": "stream",
     "text": [
      "enter spam number100\n",
      "greeting\n"
     ]
    }
   ],
   "source": [
    "spam=int(input(\"enter spam number\"))\n",
    "if spam == 1:\n",
    "    print(\"hello\")\n",
    "elif spam == 2:\n",
    "    print(\"howdy\")\n",
    "else:\n",
    "    print(\"greeting\")"
   ]
  },
  {
   "cell_type": "markdown",
   "id": "a17b191f",
   "metadata": {},
   "source": [
    "# 9.If your programme is stuck in an endless loop, what keys you’ll press?"
   ]
  },
  {
   "cell_type": "code",
   "execution_count": null,
   "id": "61ce6f8f",
   "metadata": {},
   "outputs": [],
   "source": [
    "ctrl+c to exit from infinite loop"
   ]
  },
  {
   "cell_type": "markdown",
   "id": "9008f51d",
   "metadata": {},
   "source": [
    "# 10. How can you tell the difference between break and continue?"
   ]
  },
  {
   "cell_type": "code",
   "execution_count": null,
   "id": "d8fc758a",
   "metadata": {},
   "outputs": [],
   "source": [
    "Break Statement : \n",
    "Break statements exit or “break” the flow of the program\n",
    "\n",
    "Continue Statement:\n",
    "The continue statement is used to skip code within a loop for certain iterations of the loop. After the code is skipped,\n",
    "the loop continues where it left off.\n"
   ]
  },
  {
   "cell_type": "code",
   "execution_count": null,
   "id": "8ee5607e",
   "metadata": {},
   "outputs": [],
   "source": [
    "example for break:\n",
    "\n",
    "for i in range(10):\n",
    "    print(i)\n",
    "    if i == 4:\n",
    "        break   #It will break the execution of the program"
   ]
  },
  {
   "cell_type": "code",
   "execution_count": null,
   "id": "aa49405b",
   "metadata": {},
   "outputs": [],
   "source": [
    "example for continue:\n",
    "    for i in range(10):\n",
    "    if i == 2:\n",
    "        continue\n",
    "    print(i)#would print all numbers from 0-10 except 2"
   ]
  },
  {
   "cell_type": "markdown",
   "id": "f95b51de",
   "metadata": {},
   "source": [
    "# 11. In a for loop, what is the difference between range(10), range(0, 10), and range(0, 10, 1)?"
   ]
  },
  {
   "cell_type": "code",
   "execution_count": null,
   "id": "6edba47b",
   "metadata": {},
   "outputs": [],
   "source": [
    "range(10)-> It wil print from 0 to 10 continuosly\n",
    "range(0,10)-> it is nothing but we can select the starting of index and end of the index like from 0 or 1 to 5 or 10\n",
    "range(0,10,1)-> we can select step also "
   ]
  },
  {
   "cell_type": "markdown",
   "id": "5bb25d10",
   "metadata": {},
   "source": [
    "# 12. Write a short program that prints the numbers 1 to 10 using a for loop. Then write an equivalent program that prints the numbers 1 to 10 using a while loop."
   ]
  },
  {
   "cell_type": "code",
   "execution_count": null,
   "id": "d0f1d0ed",
   "metadata": {},
   "outputs": [],
   "source": [
    "using for loop:\n",
    "    for i in range(11):\n",
    "    print(i)"
   ]
  },
  {
   "cell_type": "code",
   "execution_count": null,
   "id": "f0209f4d",
   "metadata": {},
   "outputs": [],
   "source": [
    "using while loop:\n",
    "i=0\n",
    "while i < 10:\n",
    "    i=i+1\n",
    "    print(i)"
   ]
  },
  {
   "cell_type": "markdown",
   "id": "f3018628",
   "metadata": {},
   "source": [
    "# 13. If you had a function named bacon() inside a module named spam, how would you call it after importing spam?"
   ]
  },
  {
   "cell_type": "code",
   "execution_count": null,
   "id": "c0752cc1",
   "metadata": {},
   "outputs": [],
   "source": [
    "import spam\n",
    "spam.bacon()"
   ]
  }
 ],
 "metadata": {
  "kernelspec": {
   "display_name": "Python 3 (ipykernel)",
   "language": "python",
   "name": "python3"
  },
  "language_info": {
   "codemirror_mode": {
    "name": "ipython",
    "version": 3
   },
   "file_extension": ".py",
   "mimetype": "text/x-python",
   "name": "python",
   "nbconvert_exporter": "python",
   "pygments_lexer": "ipython3",
   "version": "3.9.7"
  }
 },
 "nbformat": 4,
 "nbformat_minor": 5
}
