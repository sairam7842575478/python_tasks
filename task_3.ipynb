{
 "cells": [
  {
   "cell_type": "markdown",
   "id": "05e96cad",
   "metadata": {},
   "source": [
    "# 1. Why are functions advantageous to have in your programs?"
   ]
  },
  {
   "cell_type": "code",
   "execution_count": null,
   "id": "1a8ccd8a",
   "metadata": {},
   "outputs": [],
   "source": [
    "I can say that , if we define functions in our programs once and we can use it for many times when ever we want and with\n",
    "functions.\n",
    "we can develop the program in modular fashion."
   ]
  },
  {
   "cell_type": "markdown",
   "id": "a136dc3e",
   "metadata": {},
   "source": [
    "# 2. When does the code in a function run: when it&#39;s specified or when it's called?"
   ]
  },
  {
   "cell_type": "code",
   "execution_count": null,
   "id": "2ec4c26c",
   "metadata": {},
   "outputs": [],
   "source": [
    "At the time of function call only code in a function will run."
   ]
  },
  {
   "cell_type": "markdown",
   "id": "3eb855ca",
   "metadata": {},
   "source": [
    "# 3. What statement creates a function?"
   ]
  },
  {
   "cell_type": "code",
   "execution_count": null,
   "id": "a663fdc2",
   "metadata": {},
   "outputs": [],
   "source": [
    "we can creates a function with \" def keyword\" following a function name\n",
    "\n",
    "ex: def fun:"
   ]
  },
  {
   "cell_type": "markdown",
   "id": "7ab9f949",
   "metadata": {},
   "source": [
    "# 4. What is the difference between a function and a function call?"
   ]
  },
  {
   "cell_type": "code",
   "execution_count": null,
   "id": "67c1ec3d",
   "metadata": {},
   "outputs": [],
   "source": [
    "I can say that function is a collection of statements , where actual memory is not created but its just representation \n",
    "\n",
    "function call: where we call to defined function with specific name of that function and pass arguments,\n",
    "with this and actual memory of the  function gets created"
   ]
  },
  {
   "cell_type": "markdown",
   "id": "9a405302",
   "metadata": {},
   "source": [
    "# 5. How many global scopes are there in a Python program? How many local scopes?"
   ]
  },
  {
   "cell_type": "code",
   "execution_count": null,
   "id": "fa47da99",
   "metadata": {},
   "outputs": [],
   "source": [
    "There is only one global in python program.\n",
    "coming to the local scope we can define multipe inside the function."
   ]
  },
  {
   "cell_type": "markdown",
   "id": "399d25cf",
   "metadata": {},
   "source": [
    "# 6. What happens to variables in a local scope when the function call returns?"
   ]
  },
  {
   "cell_type": "code",
   "execution_count": null,
   "id": "78e3f768",
   "metadata": {},
   "outputs": [],
   "source": [
    "When a function returns, the local scope is destroyed, and all the variables in it are forgotten. we will not be able to access the out side the function"
   ]
  },
  {
   "cell_type": "markdown",
   "id": "482bab87",
   "metadata": {},
   "source": [
    "# 7. What is the concept of a return value? Is it possible to have a return value in an expression?"
   ]
  },
  {
   "cell_type": "code",
   "execution_count": null,
   "id": "b2bbdd35",
   "metadata": {},
   "outputs": [],
   "source": [
    "A return value is the value that a function call evaluates to. A return value can be used as part of an expression."
   ]
  },
  {
   "cell_type": "markdown",
   "id": "c622ad83",
   "metadata": {},
   "source": [
    "# 8. If a function does not have a return statement, what is the return value of a call to that function?"
   ]
  },
  {
   "cell_type": "code",
   "execution_count": null,
   "id": "f906297a",
   "metadata": {},
   "outputs": [],
   "source": [
    "If there is no return statement for a function, its return value is None"
   ]
  },
  {
   "cell_type": "markdown",
   "id": "9f495c4e",
   "metadata": {},
   "source": [
    "# 9. How do you make a function variable refer to the global variable?\n"
   ]
  },
  {
   "cell_type": "code",
   "execution_count": null,
   "id": "a79a06dd",
   "metadata": {},
   "outputs": [],
   "source": [
    "By representing a valible by global keywaord in the body of a function Example : global c"
   ]
  },
  {
   "cell_type": "markdown",
   "id": "f23f65aa",
   "metadata": {},
   "source": [
    "# 10. What is the data type of None?"
   ]
  },
  {
   "cell_type": "code",
   "execution_count": null,
   "id": "083e7bb4",
   "metadata": {},
   "outputs": [],
   "source": [
    "The data type of none is NoneType"
   ]
  },
  {
   "cell_type": "markdown",
   "id": "d682f70e",
   "metadata": {},
   "source": [
    "# 11. What does the sentence import areallyourpetsnamederic do?\n"
   ]
  },
  {
   "cell_type": "code",
   "execution_count": null,
   "id": "0fb811f5",
   "metadata": {},
   "outputs": [],
   "source": [
    "areallyourpetsnamederic is not a python module.\n",
    "Importing this module will throughs ModuleNotFoundError exception"
   ]
  },
  {
   "cell_type": "markdown",
   "id": "9e069ae4",
   "metadata": {},
   "source": [
    "# 12. If you had a bacon() feature in a spam module, what would you call it after importing spam?"
   ]
  },
  {
   "cell_type": "code",
   "execution_count": null,
   "id": "adcc1f62",
   "metadata": {},
   "outputs": [],
   "source": [
    "This function can be called with spam.bacon(). like below\n",
    "    import spam\n",
    "    spam.bacon()"
   ]
  },
  {
   "cell_type": "markdown",
   "id": "243e11fa",
   "metadata": {},
   "source": [
    "# 13. What can you do to save a programme from crashing if it encounters an error?"
   ]
  },
  {
   "cell_type": "code",
   "execution_count": null,
   "id": "23bf457c",
   "metadata": {},
   "outputs": [],
   "source": [
    "we can write lines of code in try block. This will not crash the programme. And in except block we can catch the \n",
    "exception"
   ]
  },
  {
   "cell_type": "markdown",
   "id": "83223fb5",
   "metadata": {},
   "source": [
    "# 14. What is the purpose of the try clause? What is the purpose of the except clause?"
   ]
  },
  {
   "cell_type": "code",
   "execution_count": null,
   "id": "b719872f",
   "metadata": {},
   "outputs": [],
   "source": [
    "Try : The code that could potentially cause an error goes in the try clause.\n",
    "except : The code that executes if an error happens goes in the except clause, like print statments about exceptions,\n",
    "loggin statements."
   ]
  }
 ],
 "metadata": {
  "kernelspec": {
   "display_name": "Python 3 (ipykernel)",
   "language": "python",
   "name": "python3"
  },
  "language_info": {
   "codemirror_mode": {
    "name": "ipython",
    "version": 3
   },
   "file_extension": ".py",
   "mimetype": "text/x-python",
   "name": "python",
   "nbconvert_exporter": "python",
   "pygments_lexer": "ipython3",
   "version": "3.9.7"
  }
 },
 "nbformat": 4,
 "nbformat_minor": 5
}
