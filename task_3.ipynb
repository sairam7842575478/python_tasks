{
 "cells": [
  {
   "cell_type": "markdown",
   "id": "87463da0",
   "metadata": {},
   "source": [
    "# 1. Why are functions advantageous to have in your programs?"
   ]
  },
  {
   "cell_type": "markdown",
   "id": "b2caed02",
   "metadata": {},
   "source": [
    "I can say that , if we define functions in our programs once and we can use it for many times when ever we want and with\n",
    "functions.\n",
    "we can develop the program in modular fashion."
   ]
  },
  {
   "cell_type": "markdown",
   "id": "263052e3",
   "metadata": {},
   "source": [
    "# 2. When does the code in a function run: when it&#39;s specified or when it's called?"
   ]
  },
  {
   "cell_type": "markdown",
   "id": "028f4581",
   "metadata": {},
   "source": [
    "At the time of function call only code in a function will run."
   ]
  },
  {
   "cell_type": "markdown",
   "id": "6058662c",
   "metadata": {},
   "source": [
    "# 3. What statement creates a function?"
   ]
  },
  {
   "cell_type": "raw",
   "id": "cab73233",
   "metadata": {},
   "source": [
    "we can creates a function with \" def keyword\" following a function name\n",
    "\n",
    "ex: def fun:"
   ]
  },
  {
   "cell_type": "markdown",
   "id": "cb7c3cc0",
   "metadata": {},
   "source": [
    "# 4. What is the difference between a function and a function call?"
   ]
  },
  {
   "cell_type": "raw",
   "id": "0aaaa715",
   "metadata": {},
   "source": [
    "I can say that function is a collection of statements , where actual memory is not created but its just representation \n",
    "\n",
    "function call: where we call to defined function with specific name of that function and pass arguments,\n",
    "with this and actual memory of the  function gets created"
   ]
  },
  {
   "cell_type": "markdown",
   "id": "6ee82f27",
   "metadata": {},
   "source": [
    "# 5. How many global scopes are there in a Python program? How many local scopes?"
   ]
  },
  {
   "cell_type": "raw",
   "id": "662eb16f",
   "metadata": {},
   "source": [
    "There is only one global in python program.\n",
    "coming to the local scope we can define multipe inside the function."
   ]
  },
  {
   "cell_type": "markdown",
   "id": "4d06cbe7",
   "metadata": {},
   "source": [
    "# 6. What happens to variables in a local scope when the function call returns?"
   ]
  },
  {
   "cell_type": "raw",
   "id": "1fe18524",
   "metadata": {},
   "source": [
    "When a function returns, the local scope is destroyed, and all the variables in it are forgotten. we will not be able to access the out side the function"
   ]
  },
  {
   "cell_type": "markdown",
   "id": "2ad9aca9",
   "metadata": {},
   "source": [
    "# 7. What is the concept of a return value? Is it possible to have a return value in an expression?"
   ]
  },
  {
   "cell_type": "raw",
   "id": "7d4fcf90",
   "metadata": {},
   "source": [
    "A return value is the value that a function call evaluates to. A return value can be used as part of an expression."
   ]
  },
  {
   "cell_type": "markdown",
   "id": "7c356d7d",
   "metadata": {},
   "source": [
    "# 8. If a function does not have a return statement, what is the return value of a call to that function?"
   ]
  },
  {
   "cell_type": "raw",
   "id": "a947dd0c",
   "metadata": {},
   "source": [
    "If there is no return statement for a function, its return value is None"
   ]
  },
  {
   "cell_type": "markdown",
   "id": "f0e20f72",
   "metadata": {},
   "source": [
    "# 9. How do you make a function variable refer to the global variable?\n"
   ]
  },
  {
   "cell_type": "raw",
   "id": "9187d990",
   "metadata": {},
   "source": [
    "By representing a valible by global keywaord in the body of a function Example : global c"
   ]
  },
  {
   "cell_type": "markdown",
   "id": "954a2ca3",
   "metadata": {},
   "source": [
    "# 10. What is the data type of None?"
   ]
  },
  {
   "cell_type": "markdown",
   "id": "4d5b295c",
   "metadata": {},
   "source": [
    "The data type of none is NoneType"
   ]
  },
  {
   "cell_type": "markdown",
   "id": "0aba690f",
   "metadata": {},
   "source": [
    "# 11. What does the sentence import areallyourpetsnamederic do?\n"
   ]
  },
  {
   "cell_type": "raw",
   "id": "df6d2cbe",
   "metadata": {},
   "source": [
    "areallyourpetsnamederic is not a python module.\n",
    "Importing this module will throughs ModuleNotFoundError exception"
   ]
  },
  {
   "cell_type": "markdown",
   "id": "a1cbf6cf",
   "metadata": {},
   "source": [
    "# 12. If you had a bacon() feature in a spam module, what would you call it after importing spam?"
   ]
  },
  {
   "cell_type": "code",
   "execution_count": null,
   "id": "d8e501c5",
   "metadata": {},
   "outputs": [],
   "source": [
    "This function can be called with spam.bacon(). like below\n",
    "    import spam\n",
    "    spam.bacon()"
   ]
  },
  {
   "cell_type": "markdown",
   "id": "c6dfc8be",
   "metadata": {},
   "source": [
    "# 13. What can you do to save a programme from crashing if it encounters an error?"
   ]
  },
  {
   "cell_type": "code",
   "execution_count": null,
   "id": "0effc7fb",
   "metadata": {},
   "outputs": [],
   "source": [
    "we can write lines of code in try block. This will not crash the programme. And in except block we can catch the \n",
    "exception"
   ]
  },
  {
   "cell_type": "code",
   "execution_count": null,
   "id": "f810f1c8",
   "metadata": {},
   "outputs": [],
   "source": [
    "14. What is the purpose of the try clause? What is the purpose of the except clause?"
   ]
  },
  {
   "cell_type": "code",
   "execution_count": null,
   "id": "cb439a76",
   "metadata": {},
   "outputs": [],
   "source": []
  }
 ],
 "metadata": {
  "kernelspec": {
   "display_name": "Python 3 (ipykernel)",
   "language": "python",
   "name": "python3"
  },
  "language_info": {
   "codemirror_mode": {
    "name": "ipython",
    "version": 3
   },
   "file_extension": ".py",
   "mimetype": "text/x-python",
   "name": "python",
   "nbconvert_exporter": "python",
   "pygments_lexer": "ipython3",
   "version": "3.9.7"
  }
 },
 "nbformat": 4,
 "nbformat_minor": 5
}
