{
 "cells": [
  {
   "cell_type": "markdown",
   "id": "844f1337",
   "metadata": {},
   "source": [
    "# 1. What exactly is []?"
   ]
  },
  {
   "cell_type": "code",
   "execution_count": null,
   "id": "7d2052cf",
   "metadata": {},
   "outputs": [],
   "source": [
    "I can ssay that it is representation of list.\n",
    "\n",
    "ex: l=[] -> yes it is empty list but this symbol is used to define the list."
   ]
  },
  {
   "cell_type": "markdown",
   "id": "96b89378",
   "metadata": {},
   "source": [
    "# 2. In a list of values stored in a variable called spam, how would you assign the value &#39;hello&#39; as the third value? (Assume [2, 4, 6, 8, 10] are in spam.)"
   ]
  },
  {
   "cell_type": "code",
   "execution_count": 1,
   "id": "c4c001a1",
   "metadata": {},
   "outputs": [],
   "source": [
    "spam=[2,4,6,8,10]\n",
    "spam[2]=\"hello\""
   ]
  },
  {
   "cell_type": "markdown",
   "id": "9a30edaf",
   "metadata": {},
   "source": [
    "# 3.What is the value of spam[int(int('3'*2)/11]"
   ]
  },
  {
   "cell_type": "code",
   "execution_count": null,
   "id": "ff5c0af8",
   "metadata": {},
   "outputs": [],
   "source": [
    "Answer is 3.\n",
    "\n",
    "('3'*2) -> it will print the value 33 because string '3' we multiply with 2 so we get 33 and we convert into int\n",
    "\n",
    "will devide by 11 -> 33/11=3"
   ]
  },
  {
   "cell_type": "markdown",
   "id": "c3365309",
   "metadata": {},
   "source": [
    "# 4. What is the value of spam[-1]?"
   ]
  },
  {
   "cell_type": "markdown",
   "id": "fb4f5c71",
   "metadata": {},
   "source": [
    "# Lets pretend the spam includes the list['a','b','c','d']"
   ]
  },
  {
   "cell_type": "code",
   "execution_count": null,
   "id": "1bf4553c",
   "metadata": {},
   "outputs": [],
   "source": [
    "spam=['a','b','c','d']\n",
    "\n",
    "spam[-1]# output will be 'd'"
   ]
  },
  {
   "cell_type": "markdown",
   "id": "1f2338da",
   "metadata": {},
   "source": [
    "# 5. What is the value of spam[:2]?"
   ]
  },
  {
   "cell_type": "code",
   "execution_count": 10,
   "id": "47495f61",
   "metadata": {},
   "outputs": [],
   "source": [
    "spam=['a','b','c','d']\n",
    "spam[:2] #Output will be ['a','b']"
   ]
  },
  {
   "cell_type": "markdown",
   "id": "3c39da0f",
   "metadata": {},
   "source": [
    "# Lets pretend bacon has the list[3.14,'cat',11,'cat',True]"
   ]
  },
  {
   "cell_type": "markdown",
   "id": "cac6b340",
   "metadata": {},
   "source": [
    "# 6.What is the value of bacon.index('cat')"
   ]
  },
  {
   "cell_type": "code",
   "execution_count": 14,
   "id": "7abaf513",
   "metadata": {},
   "outputs": [],
   "source": [
    "bacon=[3.14,'cat',11,'cat',True]\n",
    "bacon.index('cat') \n",
    "\n",
    "Ouput will be 1 .because it will take first occurence of the value at index"
   ]
  },
  {
   "cell_type": "markdown",
   "id": "0a39d34a",
   "metadata": {},
   "source": [
    "# 7. How does bacon.append(99) change the look of the list value in bacon?"
   ]
  },
  {
   "cell_type": "code",
   "execution_count": null,
   "id": "ad859a7c",
   "metadata": {},
   "outputs": [],
   "source": [
    "bacon=[3.14,'cat',11,'cat',True]\n",
    "bacon.append(99)\n",
    "\n",
    "Output : [3.14,'cat',11,'cat',True,99]#when we use append function it will try to add value at last of the list"
   ]
  },
  {
   "cell_type": "markdown",
   "id": "b6e29176",
   "metadata": {},
   "source": [
    "# 8.How does bacon.remove('cat') change the look of the list in bacon?"
   ]
  },
  {
   "cell_type": "code",
   "execution_count": 17,
   "id": "b6700cff",
   "metadata": {},
   "outputs": [],
   "source": [
    "bacon.remove('cat')\n",
    "\n",
    "Output: it will remove the cat from the first occurence of the list and output will be [3.14,11,'cat',True]"
   ]
  },
  {
   "cell_type": "markdown",
   "id": "2f3d96cb",
   "metadata": {},
   "source": [
    "# 9. What are the list concatenation and list replication operators?"
   ]
  },
  {
   "cell_type": "code",
   "execution_count": null,
   "id": "febd0b09",
   "metadata": {},
   "outputs": [],
   "source": [
    "concatenation operator : '+'\n",
    "    \n",
    "with this operator we can add/concate 2 lists\n",
    "\n",
    "Example:\n",
    "l=[1,2,3]\n",
    "j=[4,5,6]\n",
    "l+j\n",
    "\n",
    "Output: it will concatinate the bot list and will give the result like [1,2,3,4,5,6]\n",
    "    \n",
    "replication operator: '*'\n",
    "\n",
    "with this operator we can multiply list into any integer value\n",
    "\n",
    "example:\n",
    "\n",
    "l=[1,2,3,4]\n",
    "\n",
    "l*2 \n",
    "\n",
    "Output : it will repeat the list 2 times and finally we get output as [1,2,3,4,1,2,3,4]\n",
    "\n"
   ]
  },
  {
   "cell_type": "markdown",
   "id": "fb5c7d32",
   "metadata": {},
   "source": [
    "# 10. What is difference between the list methods append() and insert()?"
   ]
  },
  {
   "cell_type": "code",
   "execution_count": 21,
   "id": "553abddd",
   "metadata": {},
   "outputs": [],
   "source": [
    "append() -> when we try to use append , by default it will try to append the value into end of the list\n",
    "\n",
    "insert()-> when we try to use insert , we can add values in any place of the list by using index ex: l.insert(5,\"andrew\")"
   ]
  },
  {
   "cell_type": "markdown",
   "id": "491f32da",
   "metadata": {},
   "source": [
    "# 11. What are the two methods for removing items from a list?"
   ]
  },
  {
   "cell_type": "code",
   "execution_count": null,
   "id": "a3a9e1d2",
   "metadata": {},
   "outputs": [],
   "source": [
    "We have 2 methods\n",
    "\n",
    "remove: we remove values from the list;\n",
    "    \n",
    "example:\n",
    "\n",
    "l=[1,2,3,4,5,6,\"aaa\",'sai','andrew']\n",
    "l.remove('aaa') # we need to give values here\n",
    "\n",
    "pop: This function by default remove the last element and returns the same element.And we can give our own index as well.\n",
    "\n",
    "example:\n",
    "\n",
    "l=[1,2,3,4,5,6,\"aaa\",'sai','andrew']\n",
    "\n",
    "l.pop()# it reoves the 'andrew from list and return the same element'\n",
    "l.pop(2)# it removes the second index of the value\n"
   ]
  },
  {
   "cell_type": "markdown",
   "id": "91f42ae1",
   "metadata": {},
   "source": [
    "# 12. Describe how list values and string values are identical."
   ]
  },
  {
   "cell_type": "code",
   "execution_count": 40,
   "id": "28b39f05",
   "metadata": {},
   "outputs": [],
   "source": [
    "1. Both lists and strings can be passed to len()\n",
    "2. Have indexes and slices\n",
    "3. Can be used in for loops\n",
    "4. Can be concatenated or replicated\n",
    "5. Can be used with the in and not in operators"
   ]
  },
  {
   "cell_type": "markdown",
   "id": "93c772f2",
   "metadata": {},
   "source": [
    "# 13. What's the difference between tuples and lists?"
   ]
  },
  {
   "cell_type": "code",
   "execution_count": 43,
   "id": "552da9b0",
   "metadata": {},
   "outputs": [],
   "source": [
    "Lists :\n",
    "are mutable - they can have values added, removed, or changed. \n",
    "lists use the square brackets, [  ]\n",
    "\n",
    "Tuples :\n",
    "are immutable; they cannot be changed at all. \n",
    "Tuples are written using parentheses, (  ) "
   ]
  },
  {
   "cell_type": "markdown",
   "id": "bcd54025",
   "metadata": {},
   "source": [
    "# 14. How do you type a tuple value that only contains the integer 42?"
   ]
  },
  {
   "cell_type": "code",
   "execution_count": 49,
   "id": "b5bcfdf7",
   "metadata": {},
   "outputs": [],
   "source": [
    "tup=(42,)"
   ]
  },
  {
   "cell_type": "markdown",
   "id": "084df51a",
   "metadata": {},
   "source": [
    "# 15. How do you get a list value's tuple form? How do you get a tuple value's list form?"
   ]
  },
  {
   "cell_type": "code",
   "execution_count": 51,
   "id": "6f850c4a",
   "metadata": {},
   "outputs": [
    {
     "name": "stdout",
     "output_type": "stream",
     "text": [
      "I am from list to tuple  (1, 2)\n",
      "I am from tuple to list  [2, 3]\n"
     ]
    }
   ],
   "source": [
    "#By using tuple() and list() functions\n",
    "\n",
    "l1 = [1,2]\n",
    "l = tuple(l1)\n",
    "print(\"I am from list to tuple \",l)\n",
    "t1 = (2,3)\n",
    "t = list(t1)\n",
    "print(\"I am from tuple to list \",t)\n"
   ]
  },
  {
   "cell_type": "markdown",
   "id": "1b303074",
   "metadata": {},
   "source": [
    "# 16. Variables that \"contain\" list values are not necessarily lists themselves. Instead, what do they contain?"
   ]
  },
  {
   "cell_type": "code",
   "execution_count": 52,
   "id": "7d77d735",
   "metadata": {},
   "outputs": [],
   "source": [
    "They contain references to list values"
   ]
  },
  {
   "cell_type": "markdown",
   "id": "afd0b342",
   "metadata": {},
   "source": [
    "# 17. How do you distinguish between copy.copy() and copy.deepcopy()?"
   ]
  },
  {
   "cell_type": "code",
   "execution_count": 54,
   "id": "21becdeb",
   "metadata": {},
   "outputs": [],
   "source": [
    "The copy.copy() function will do a shallow copy of a list, \n",
    "The copy.deepcopy() function will do a deep copy of a list. only copy.deepcopy() will duplicate any lists inside the \n",
    "list"
   ]
  },
  {
   "cell_type": "code",
   "execution_count": null,
   "id": "da97d6ae",
   "metadata": {},
   "outputs": [],
   "source": []
  },
  {
   "cell_type": "code",
   "execution_count": null,
   "id": "abe70c7c",
   "metadata": {},
   "outputs": [],
   "source": []
  }
 ],
 "metadata": {
  "kernelspec": {
   "display_name": "Python 3 (ipykernel)",
   "language": "python",
   "name": "python3"
  },
  "language_info": {
   "codemirror_mode": {
    "name": "ipython",
    "version": 3
   },
   "file_extension": ".py",
   "mimetype": "text/x-python",
   "name": "python",
   "nbconvert_exporter": "python",
   "pygments_lexer": "ipython3",
   "version": "3.9.7"
  }
 },
 "nbformat": 4,
 "nbformat_minor": 5
}
